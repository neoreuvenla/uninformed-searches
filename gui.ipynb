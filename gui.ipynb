{
 "cells": [
  {
   "cell_type": "code",
   "execution_count": 26,
   "id": "1c1fcadc",
   "metadata": {},
   "outputs": [],
   "source": [
    "#IMPORTS\n",
    "import matplotlib.pyplot as plt\n",
    "from matplotlib.figure import Figure\n",
    "from matplotlib.backends.backend_tkagg import FigureCanvasTkAgg\n",
    "import networkx as nx\n",
    "from tkinter import *\n",
    "from tkinter import ttk\n",
    "import json"
   ]
  },
  {
   "cell_type": "code",
   "execution_count": 27,
   "id": "37f4305b",
   "metadata": {},
   "outputs": [
    {
     "name": "stdout",
     "output_type": "stream",
     "text": [
      "Following is the Breadth-First Search\n"
     ]
    },
    {
     "ename": "NameError",
     "evalue": "name 'graph' is not defined",
     "output_type": "error",
     "traceback": [
      "\u001b[1;31m---------------------------------------------------------------------------\u001b[0m",
      "\u001b[1;31mNameError\u001b[0m                                 Traceback (most recent call last)",
      "\u001b[1;32m~\\AppData\\Local\\Temp/ipykernel_12400/1668680968.py\u001b[0m in \u001b[0;36m<module>\u001b[1;34m\u001b[0m\n\u001b[0;32m     23\u001b[0m \u001b[1;31m# Driver Code\u001b[0m\u001b[1;33m\u001b[0m\u001b[1;33m\u001b[0m\u001b[0m\n\u001b[0;32m     24\u001b[0m \u001b[0mprint\u001b[0m\u001b[1;33m(\u001b[0m\u001b[1;34m\"Following is the Breadth-First Search\"\u001b[0m\u001b[1;33m)\u001b[0m\u001b[1;33m\u001b[0m\u001b[1;33m\u001b[0m\u001b[0m\n\u001b[1;32m---> 25\u001b[1;33m \u001b[0mbfs\u001b[0m\u001b[1;33m(\u001b[0m\u001b[0mvisited\u001b[0m\u001b[1;33m,\u001b[0m \u001b[0mgraph\u001b[0m\u001b[1;33m,\u001b[0m \u001b[1;34m\"A\"\u001b[0m\u001b[1;33m)\u001b[0m  \u001b[1;31m# function calling\u001b[0m\u001b[1;33m\u001b[0m\u001b[1;33m\u001b[0m\u001b[0m\n\u001b[0m",
      "\u001b[1;31mNameError\u001b[0m: name 'graph' is not defined"
     ]
    }
   ],
   "source": [
    "#BFS\n",
    "\n",
    "visited = []  # List for visited nodes.\n",
    "queue = []  # Initialize a queue\n",
    "\n",
    "def bfs(visited, graph, node):  # function for BFS\n",
    "\n",
    "    \n",
    "    visited.append(node)\n",
    "    queue.append(node)\n",
    "  \n",
    "    \n",
    "    while queue:  # Creating loop to visit each node\n",
    "        m = queue.pop(0)\n",
    "        print(m, end=\" \")\n",
    "\n",
    "        for neighbour in graph[m]:\n",
    "            if neighbour not in visited:\n",
    "                visited.append(neighbour)\n",
    "                queue.append(neighbour)\n",
    "\n",
    "\n",
    "# Driver Code\n",
    "print(\"Following is the Breadth-First Search\")\n",
    "bfs(visited, graph, \"A\")  # function calling"
   ]
  },
  {
   "cell_type": "code",
   "execution_count": 34,
   "id": "c079f7f4",
   "metadata": {},
   "outputs": [
    {
     "ename": "SyntaxError",
     "evalue": "invalid syntax (Temp/ipykernel_12400/1852154768.py, line 121)",
     "output_type": "error",
     "traceback": [
      "\u001b[1;36m  File \u001b[1;32m\"C:\\Users\\Neil\\AppData\\Local\\Temp/ipykernel_12400/1852154768.py\"\u001b[1;36m, line \u001b[1;32m121\u001b[0m\n\u001b[1;33m    return list = []\u001b[0m\n\u001b[1;37m                ^\u001b[0m\n\u001b[1;31mSyntaxError\u001b[0m\u001b[1;31m:\u001b[0m invalid syntax\n"
     ]
    }
   ],
   "source": [
    "graph_problem = {}   \n",
    "unpacked_keys = []\n",
    "unpacked_values = []\n",
    "\n",
    "def draw_state():\n",
    "\n",
    "    options = {'edge_color':\"grey\",'node_color': 'gold','node_size': 100,'width': 1}\n",
    "    \n",
    "    # creates a copy of the graph without any blanks\n",
    "    graph_cleaned = remove_blanks(graph_problem)\n",
    "    \n",
    "    graph_plot.cla()  \n",
    "    \n",
    "\n",
    "    #graph_plot.axis('off')\n",
    "    \n",
    "    #undirected graph\n",
    "    G = nx.Graph(graph_cleaned)\n",
    "    nx.draw(G,with_labels = True,ax=graph_plot, **options)  \n",
    "    graph_figure.set_facecolor(\"#f0f0f0\")\n",
    "    \n",
    "    #set margins so nodes arent clipped\n",
    "    ax = plt.gca()\n",
    "    ax.margins(1)\n",
    "    plt.axis(\"off\")\n",
    "    plt.show()\n",
    "    \n",
    "    graph_canvas.draw()\n",
    "    graph_canvas.get_tk_widget().grid()\n",
    "\n",
    "    \n",
    "    total_edges = \"Total edges: \" + str(G.number_of_edges())\n",
    "    number_edges.config(text=total_edges)\n",
    "    \n",
    "    total_vertices = \"Total vertices: \" + str(G.number_of_nodes())\n",
    "    number_vertices.config(text=total_vertices)\n",
    "    \n",
    "    \n",
    " \n",
    "    \n",
    "def set_vertices():\n",
    "    global graph_problem\n",
    "    clear_list(graph_problem)\n",
    "    \n",
    "    i=0\n",
    "    for entry in vertex_list:\n",
    "        graph_problem[entry.get()] = [edge_list[i + 0].get(), edge_list[i + 1].get(), edge_list[i + 2].get(), edge_list[i + 3].get()]\n",
    "        i+=4\n",
    "    \n",
    "    save_button.config(state=NORMAL) # activates the save button\n",
    "    \n",
    "    draw_state()\n",
    "\n",
    "def remove_blanks(dictionary):\n",
    "       \n",
    "    # remove empty values\n",
    "    dictionary = {k: [i for i in v if i] for k, v in dictionary.items()}\n",
    "    \n",
    "    # remove empty keys\n",
    "    dictionary = {k: v for k, v in dictionary.items() if v and v[0]}\n",
    "    \n",
    "    return dictionary\n",
    "\n",
    "\n",
    "def load_problem():\n",
    "    \n",
    "    global graph_problem\n",
    "    \n",
    "    with open('backup.json') as read_file:\n",
    "        graph_problem = json.load(read_file)\n",
    "            \n",
    "    unpack_dictionary()\n",
    "    \n",
    "    i=0\n",
    "\n",
    "   \n",
    "    for entry in vertex_list:\n",
    "        if i < len(unpacked_keys):\n",
    "            entry.delete(0,END)\n",
    "            entry.insert(0,unpacked_keys[i])\n",
    "            i+=1\n",
    "        else:\n",
    "            pass       \n",
    "    \n",
    "    \n",
    "    j=0\n",
    "    # converts nested list to unnested for ease of iteration\n",
    "    \n",
    "   \n",
    "    for entry in edge_list:\n",
    "        if j < len(unpacked_values):\n",
    "            entry.delete(0,END)\n",
    "            entry.insert(0,unpacked_values[j])\n",
    "            j+=1\n",
    "        else:\n",
    "            pass\n",
    "        \n",
    "    update_cbox()\n",
    "    set_vertices()\n",
    "\n",
    "def save_problem():\n",
    "\n",
    "    with open(\"backup.json\", \"w\") as write_file:\n",
    "        json.dump(graph_problem, write_file)\n",
    "\n",
    "def update_cbox():\n",
    "    \n",
    "    start_cbox['values'] = unpacked_keys\n",
    "    end_cbox['values'] = unpacked_keys\n",
    "    \n",
    "def unpack_dictionary():\n",
    "    global unpacked_keys \n",
    "    global unpacked_values\n",
    "    \n",
    "    unpacked_keys = list(graph_problem.keys())\n",
    "    unpacked_values = sum(list(graph_problem.values()), [])\n",
    "    \n",
    "    \n",
    "def clear_list(list):\n",
    "    return list = []\n",
    "    "
   ]
  },
  {
   "cell_type": "code",
   "execution_count": 35,
   "id": "5cc79694",
   "metadata": {},
   "outputs": [
    {
     "data": {
      "image/png": "[encoded data removed]",
      "text/plain": [
       "<Figure size 432x288 with 1 Axes>"
      ]
     },
     "metadata": {
      "needs_background": "light"
     },
     "output_type": "display_data"
    },
    {
     "data": {
      "image/png": "[encoded data removed]",
      "text/plain": [
       "<Figure size 432x288 with 1 Axes>"
      ]
     },
     "metadata": {
      "needs_background": "light"
     },
     "output_type": "display_data"
    },
    {
     "data": {
      "image/png": "[encoded data removed]",
      "text/plain": [
       "<Figure size 432x288 with 1 Axes>"
      ]
     },
     "metadata": {
      "needs_background": "light"
     },
     "output_type": "display_data"
    },
    {
     "data": {
      "image/png": "[encoded data removed]",
      "text/plain": [
       "<Figure size 432x288 with 1 Axes>"
      ]
     },
     "metadata": {
      "needs_background": "light"
     },
     "output_type": "display_data"
    },
    {
     "data": {
      "image/png": "[encoded data removed]",
      "text/plain": [
       "<Figure size 432x288 with 1 Axes>"
      ]
     },
     "metadata": {
      "needs_background": "light"
     },
     "output_type": "display_data"
    },
    {
     "data": {
      "image/png": "[encoded data removed]",
      "text/plain": [
       "<Figure size 432x288 with 1 Axes>"
      ]
     },
     "metadata": {
      "needs_background": "light"
     },
     "output_type": "display_data"
    },
    {
     "data": {
      "image/png": "[encoded data removed]",
      "text/plain": [
       "<Figure size 432x288 with 1 Axes>"
      ]
     },
     "metadata": {
      "needs_background": "light"
     },
     "output_type": "display_data"
    }
   ],
   "source": [
    "# Root - base window layer\n",
    "\n",
    "root = Tk()\n",
    "root.title(\"Uninformed Searches\")  # sets window title\n",
    "root.resizable(False, False)  # prevents window resizing to maintain spacing\n",
    "\n",
    "# Label frames - grooved boxes for organisation\n",
    "\n",
    "input_lframe = LabelFrame(root, text=\"State Space\")\n",
    "input_lframe.pack(side=LEFT, fill=BOTH, expand=\"yes\", padx=10, pady=10)\n",
    "\n",
    "graph_lframe = LabelFrame(root, text=\"Graph\")\n",
    "graph_lframe.pack(side=RIGHT, fill=BOTH, expand=\"yes\", padx=10, pady=10)\n",
    "\n",
    "# Buttons - clickable objects for functionality\n",
    "\n",
    "vertex_button = Button(\n",
    "    input_lframe, text=\"Set\", width=8, height=2, command=set_vertices,\n",
    ")\n",
    "vertex_button.grid(row=22, column=0)\n",
    "\n",
    "load_button = Button(\n",
    "    input_lframe, text=\"Restore\", width=8, height=2, command=load_problem,\n",
    ")\n",
    "load_button.grid(row=22, column=4)\n",
    "\n",
    "save_button = Button(input_lframe, text=\"Backup\", width=8, height=2, command=save_problem,state=DISABLED,)\n",
    "save_button.grid(row=22, column=3)\n",
    "\n",
    "draw_graph = Button(graph_lframe, text=\"Draw\", width=8, height=2 ,command=draw_state)\n",
    "draw_graph.grid(row=1, column=3)\n",
    "\n",
    "\n",
    "# Labels - text areas for user feedback\n",
    "\n",
    "vertex_label = Label(input_lframe, text=\"Vertices\", width=10, height=2)\n",
    "vertex_label.grid(row=0, column=0, padx=10)\n",
    "\n",
    "edge_label = Label(input_lframe, text=\"Edges\", width=10, height=2)\n",
    "edge_label.grid(row=0, column=2, columnspan=4, padx=10)\n",
    "\n",
    "# ENTRY - fields for user input\n",
    "\n",
    "## layout variables\n",
    "\n",
    "entry_width = 10\n",
    "\n",
    "entry_padx = 10  # x padding for vertex and edge entry fields\n",
    "entry_pady = 5  # y padding for vertex and edge entry fields\n",
    "\n",
    "## vertices\n",
    "\n",
    "## list for all vertex entry widgets\n",
    "vertex_list = []\n",
    "\n",
    "## loop to create 20 vertex entry widget\n",
    "for i in range(20):\n",
    "    vertex_list.append(Entry(input_lframe,width = entry_width))\n",
    "\n",
    "## loop to create and place all vertex entry widgets\n",
    "i=2\n",
    "for entry in vertex_list:\n",
    "    entry.grid(row=i, column=0, padx= entry_padx, pady = entry_pady)  \n",
    "    i+=1\n",
    "    \n",
    "\n",
    "## edges\n",
    "\n",
    "## list for all edge entry widgets\n",
    "edge_list = []\n",
    "\n",
    "## loop to create 60 edge entry widget\n",
    "for i in range(80):\n",
    "    edge_list.append(Entry(input_lframe,width = entry_width))\n",
    "\n",
    "## loop to create and place all edge entry widgets\n",
    "\n",
    "k=2\n",
    "j=2    \n",
    "for entry in edge_list:\n",
    "    entry.grid(row=k, column=j, padx= entry_padx, pady = entry_pady)\n",
    "    if j == 5:\n",
    "        j=2\n",
    "        k+=1\n",
    "    else:\n",
    "        j+=1\n",
    "\n",
    "\n",
    "\n",
    "# Seperators\n",
    "input_divider = ttk.Separator(master=input_lframe, orient=VERTICAL)\n",
    "input_divider.grid(row=1, column=1, rowspan=20, ipady=285, padx=0)\n",
    "\n",
    "# LABELS - text areas for user feedback\n",
    "\n",
    "## graph labelframe\n",
    "\n",
    "algorithm_label = Label(graph_lframe, text=\"Algorithm:\")\n",
    "algorithm_label.grid(row=0, column=0, padx=10, pady=10) \n",
    "\n",
    "start_label = Label(graph_lframe, text=\"Initial Node:\")\n",
    "start_label.grid(row=0, column=1, padx=10, pady=10) \n",
    "\n",
    "end_label = Label(graph_lframe, text=\"Goal Node:\")\n",
    "end_label.grid(row=0, column=2, padx=10, pady=10)  \n",
    "\n",
    "\n",
    "number_edges = Label(graph_lframe, text=\"Total edges:   \")\n",
    "number_edges.grid(row=5, column=0, pady=10) \n",
    "\n",
    "number_vertices = Label(graph_lframe, text=\"Total vertcies:   \")\n",
    "number_vertices.grid(row=5, column=1, pady=10) \n",
    "\n",
    "\n",
    "## DROPDOWN MENU - \n",
    "\n",
    "algorithm_choice = StringVar()\n",
    "algorithm_cbox = ttk.Combobox(graph_lframe, textvariable=algorithm_choice)\n",
    "algorithm_cbox['values'] = (' Breadth First Search', ' Depth First Search',' Depth Limited Search',' Iterative Deepening Depth First Search')\n",
    "algorithm_cbox.grid(row=1, column=0, padx=10, pady=10) \n",
    "\n",
    "start_choice = StringVar()\n",
    "start_cbox = ttk.Combobox(graph_lframe, textvariable=start_choice)\n",
    "start_cbox['values'] = ()\n",
    "start_cbox.grid(row=1, column=1, padx=10, pady=10) \n",
    "\n",
    "end_choice = StringVar()\n",
    "end_cbox = ttk.Combobox(graph_lframe, textvariable=end_choice)\n",
    "end_cbox['values'] = ()\n",
    "end_cbox.grid(row=1, column=2, padx=10, pady=10)\n",
    "\n",
    "# Figures - drawing area for graphs\n",
    "\n",
    "graph_figure = Figure(figsize=(10, 7))\n",
    "graph_figure.set_facecolor(\"#f0f0f0\")\n",
    "\n",
    "# Subplots\n",
    "\n",
    "graph_plot = graph_figure.add_subplot(111)  # creates graph subplot\n",
    "graph_plot.axis(\"off\")\n",
    "\n",
    "# Canvas - area for holding figures\n",
    "\n",
    "graph_canvas = FigureCanvasTkAgg(graph_figure, graph_lframe)\n",
    "graph_canvas.get_tk_widget().grid(row=2, column=0, columnspan=4, pady=0, padx=0)\n",
    "\n",
    "# GUI Loop - to start the GUI draw_graph\n",
    "\n",
    "root.mainloop()  # starts main GUI loop"
   ]
  },
  {
   "cell_type": "code",
   "execution_count": null,
   "id": "8dc3bbe3",
   "metadata": {},
   "outputs": [],
   "source": []
  },
  {
   "cell_type": "code",
   "execution_count": null,
   "id": "f477d242",
   "metadata": {},
   "outputs": [],
   "source": []
  }
 ],
 "metadata": {
  "kernelspec": {
   "display_name": "Python 3 (ipykernel)",
   "language": "python",
   "name": "python3"
  },
  "language_info": {
   "codemirror_mode": {
    "name": "ipython",
    "version": 3
   },
   "file_extension": ".py",
   "mimetype": "text/x-python",
   "name": "python",
   "nbconvert_exporter": "python",
   "pygments_lexer": "ipython3",
   "version": "3.9.7"
  }
 },
 "nbformat": 4,
 "nbformat_minor": 5
}
