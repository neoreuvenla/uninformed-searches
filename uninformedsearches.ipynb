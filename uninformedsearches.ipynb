{
 "cells": [
  {
   "cell_type": "code",
   "execution_count": 4,
   "id": "11b8521b",
   "metadata": {},
   "outputs": [],
   "source": [
    "import structures\n",
    "from collections import deque"
   ]
  },
  {
   "cell_type": "code",
   "execution_count": 5,
   "id": "a76c0822",
   "metadata": {},
   "outputs": [],
   "source": [
    "def breadth_first_graph_search(problem):\n",
    "    \"\"\"[Figure 3.11]\n",
    "    Note that this function can be implemented in a\n",
    "    single line as below:\n",
    "    return graph_search(problem, FIFOQueue())\n",
    "    \"\"\"\n",
    "    node = structures.Node(problem.initial)\n",
    "    if problem.goal_test(node.state):\n",
    "        return node\n",
    "    frontier = deque([node])\n",
    "    explored = set()\n",
    "    while frontier:\n",
    "        node = frontier.popleft()\n",
    "        explored.add(node.state)\n",
    "        for child in node.expand(problem):\n",
    "            if child.state not in explored and child not in frontier:\n",
    "                if problem.goal_test(child.state):\n",
    "                    return child\n",
    "                frontier.append(child)\n",
    "    #return none\n",
    "    return None\n",
    "\n",
    "\n",
    "def depth_first_graph_search(problem):\n",
    "    \"\"\"\n",
    "    [Figure 3.7]\n",
    "    Search the deepest nodes in the search tree first.\n",
    "    Search through the successors of a problem to find a goal.\n",
    "    The argument frontier should be an empty queue.\n",
    "    Does not get trapped by loops.\n",
    "    If two paths reach a state, only use the first one.\n",
    "    \"\"\"\n",
    "    frontier = [(structures.Node(problem.initial))]  # Stack\n",
    "\n",
    "    explored = set()\n",
    "    while frontier:\n",
    "        node = frontier.pop()\n",
    "        if problem.goal_test(node.state):\n",
    "            return node\n",
    "        explored.add(node.state)\n",
    "        frontier.extend(child for child in node.expand(problem)\n",
    "                        if child.state not in explored and child not in frontier)\n",
    "    return None\n",
    "\n",
    "def depth_limited_search(problem, limit=50):\n",
    "    \"\"\"[Figure 3.17]\"\"\"\n",
    "\n",
    "    def recursive_dls(node, problem, limit):\n",
    "        if problem.goal_test(node.state):\n",
    "            return node\n",
    "        elif limit == 0:\n",
    "            return 'cutoff'\n",
    "        else:\n",
    "            cutoff_occurred = False\n",
    "            for child in node.expand(problem):\n",
    "                result = recursive_dls(child, problem, limit - 1)\n",
    "                if result == 'cutoff':\n",
    "                    cutoff_occurred = True\n",
    "                elif result is not None:\n",
    "                    return result\n",
    "            return 'cutoff' if cutoff_occurred else None\n",
    "\n",
    "    # Body of depth_limited_search:\n",
    "    return recursive_dls(structures.Node(problem.initial), problem, limit)\n",
    "\n",
    "\n",
    "def iterative_deepening_search(problem):\n",
    "    \"\"\"[Figure 3.18]\"\"\"\n",
    "    \n",
    "    # sets a sensible maximum limit linked to graph size\n",
    "    limit = int(len(problem.graph.nodes())*.75)\n",
    "    \n",
    "    for depth in range(limit):\n",
    "        result = depth_limited_search(problem, depth)\n",
    "        if result != 'cutoff':\n",
    "            return result"
   ]
  },
  {
   "cell_type": "code",
   "execution_count": 6,
   "id": "ba5483e9",
   "metadata": {},
   "outputs": [],
   "source": [
    "user_input = {\"Arad\":{\"Zerind\":75, \"Sibiu\":140, \"Timisoara\":118},\n",
    "    \"Bucharest\":{\"Urziceni\":85, \"Pitesti\":101, \"Giurgiu\":90, \"Fagaras\":211},\n",
    "    \"Craiova\":{\"Drobeta\":120, \"Rimnicu\":146, \"Pitesti\":138},\n",
    "    \"Drobeta\":{\"Mehadia\":75},\n",
    "    \"Eforie\":{\"Hirsova\":86},\n",
    "    \"Fagaras\":{\"Sibiu\":99},\n",
    "    \"Hirsova\":{\"Urziceni\":98},\n",
    "    \"Iasi\":{\"Vaslui\":92, \"Neamt\":87},\n",
    "    \"Lugoj\":{\"Timisoara\":111, \"Mehadia\":70},\n",
    "    \"Oradea\":{\"Zerind\":71, \"Sibiu\":151},\n",
    "    \"Pitesti\":{\"Rimnicu\":97},\n",
    "    \"Rimnicu\":{\"Sibiu\":80},\n",
    "    \"Urziceni\":{\"Vaslui\":142},\n",
    "    \"Unreachable\":{}}\n",
    "\n",
    "romania_map = structures.Graph(user_input, False)"
   ]
  },
  {
   "cell_type": "code",
   "execution_count": 10,
   "id": "ba5eb6c7",
   "metadata": {},
   "outputs": [],
   "source": [
    "romania_problem = structures.Problem('Craiova', 'Neamt', romania_map) # solvable\n",
    "romania_problem_un = structures.Problem('Arad', 'Unreachable', romania_map) # unsolvable"
   ]
  },
  {
   "cell_type": "code",
   "execution_count": 11,
   "id": "2838b868",
   "metadata": {},
   "outputs": [
    {
     "name": "stdout",
     "output_type": "stream",
     "text": [
      "['Craiova', 'Pitesti', 'Bucharest', 'Urziceni', 'Vaslui', 'Iasi', 'Neamt']\n"
     ]
    }
   ],
   "source": [
    "search_result = breadth_first_graph_search(romania_problem)\n",
    "#search_result = breadth_first_graph_search(romania_problem_un) # unsolveable\n",
    "#search_result = depth_first_graph_search(romania_problem)\n",
    "#search_result = depth_first_graph_search(romania_problem_un) # unsolveable\n",
    "#search_result = iterative_deepening_search(romania_problem)\n",
    "#search_result = iterative_deepening_search(romania_problem_un) # unsolveable\n",
    "\n",
    "if search_result is not None:\n",
    "    \n",
    "    search_result = search_result.solution()\n",
    "    search_result.insert(0, romania_problem.initial)\n",
    "    print(search_result)\n",
    "    \n",
    "else:\n",
    "    print(\"No solution\")   "
   ]
  },
  {
   "cell_type": "code",
   "execution_count": null,
   "id": "c86d2462",
   "metadata": {},
   "outputs": [],
   "source": []
  }
 ],
 "metadata": {
  "kernelspec": {
   "display_name": "Python 3 (ipykernel)",
   "language": "python",
   "name": "python3"
  },
  "language_info": {
   "codemirror_mode": {
    "name": "ipython",
    "version": 3
   },
   "file_extension": ".py",
   "mimetype": "text/x-python",
   "name": "python",
   "nbconvert_exporter": "python",
   "pygments_lexer": "ipython3",
   "version": "3.9.7"
  }
 },
 "nbformat": 4,
 "nbformat_minor": 5
}
